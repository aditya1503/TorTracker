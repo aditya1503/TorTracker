{
 "cells": [
  {
   "cell_type": "code",
   "execution_count": 13,
   "metadata": {
    "collapsed": false
   },
   "outputs": [],
   "source": [
    "import glob\n",
    "from sklearn import *\n",
    "import json\n",
    "import numpy as np\n",
    "import glob\n",
    "from sklearn import *\n",
    "from sklearn.preprocessing import normalize\n",
    "import scipy\n",
    "import numpy as np\n",
    "import time\n",
    "\n",
    "from sklearn.svm import SVC\n",
    "from sklearn.neighbors import KDTree\n",
    "\n",
    "def getacc(xd,yd,model):\n",
    "    q=model.predict(xd)\n",
    "    return np.sum(q==yd)/float(len(yd))\n",
    "def getv(i):\n",
    "    q=json.load(open(i,'rb'))\n",
    "    q=np.array(q,dtype=np.float32)\n",
    "    for i in range(1,len(q)):\n",
    "        nm=-1 if q[i]<0 else 1\n",
    "        q[i]=nm*(abs(q[i])-abs(q[i-1]))\n",
    "    return np.array(q,dtype=np.float32)\n",
    "\n",
    "\n",
    "def getlab(i):\n",
    "    return i[0:i.find('_')]\n"
   ]
  },
  {
   "cell_type": "code",
   "execution_count": 4,
   "metadata": {
    "collapsed": true
   },
   "outputs": [],
   "source": [
    "wds=glob.glob(\"*.json\")"
   ]
  },
  {
   "cell_type": "code",
   "execution_count": 22,
   "metadata": {
    "collapsed": false
   },
   "outputs": [],
   "source": [
    "Y=[]\n",
    "X=[]\n",
    "\n",
    "for i in wds:\n",
    "    ln=len(list(getv(i)))\n",
    "    if ln!=100:\n",
    "        continue\n",
    "    Y.append(getlab(i))\n",
    "    X.append(list(getv(i)))\n",
    "#X=normalize(np.array(X),axis=1)\n"
   ]
  },
  {
   "cell_type": "code",
   "execution_count": 23,
   "metadata": {
    "collapsed": true
   },
   "outputs": [],
   "source": [
    " X_train, X_test, y_train, y_test = model_selection.train_test_split(X, Y, test_size=0.33, random_state=42)"
   ]
  },
  {
   "cell_type": "code",
   "execution_count": 44,
   "metadata": {
    "collapsed": true
   },
   "outputs": [],
   "source": [
    "kn = SVC(gamma=0.007,C=1.0)\n",
    "clf=kn.fit(X_train,y_train)\n",
    "\n"
   ]
  },
  {
   "cell_type": "code",
   "execution_count": 45,
   "metadata": {
    "collapsed": false
   },
   "outputs": [
    {
     "data": {
      "text/plain": [
       "(0.58730158730158732, 0.42857142857142855)"
      ]
     },
     "execution_count": 45,
     "metadata": {},
     "output_type": "execute_result"
    }
   ],
   "source": [
    "getacc(X_train,y_train,clf),getacc(X_test,y_test,clf)"
   ]
  },
  {
   "cell_type": "code",
   "execution_count": null,
   "metadata": {
    "collapsed": true
   },
   "outputs": [],
   "source": []
  }
 ],
 "metadata": {
  "kernelspec": {
   "display_name": "Python 2",
   "language": "python",
   "name": "python2"
  },
  "language_info": {
   "codemirror_mode": {
    "name": "ipython",
    "version": 2
   },
   "file_extension": ".py",
   "mimetype": "text/x-python",
   "name": "python",
   "nbconvert_exporter": "python",
   "pygments_lexer": "ipython2",
   "version": "2.7.11"
  }
 },
 "nbformat": 4,
 "nbformat_minor": 0
}
